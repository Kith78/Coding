{
 "cells": [
  {
   "cell_type": "markdown",
   "metadata": {},
   "source": [
    "# U.S. Medical Insurance Costs"
   ]
  },
  {
   "cell_type": "code",
   "execution_count": 2,
   "metadata": {},
   "outputs": [],
   "source": [
    "import pandas as pd\n",
    "import numpy as np"
   ]
  },
  {
   "cell_type": "code",
   "execution_count": 3,
   "metadata": {},
   "outputs": [
    {
     "name": "stdout",
     "output_type": "stream",
     "text": [
      "   age     sex    bmi  children smoker     region     charges\n",
      "0   19  female  27.90         0    yes  southwest  16884.9240\n",
      "1   18    male  33.77         1     no  southeast   1725.5523\n"
     ]
    }
   ],
   "source": [
    "df = pd.read_csv('insurance.csv')\n",
    "print(df.head(2))"
   ]
  },
  {
   "cell_type": "markdown",
   "metadata": {},
   "source": [
    "# 1. Cleaning data first "
   ]
  },
  {
   "cell_type": "code",
   "execution_count": 4,
   "metadata": {},
   "outputs": [
    {
     "name": "stdout",
     "output_type": "stream",
     "text": [
      "age           int64\n",
      "sex          object\n",
      "bmi         float64\n",
      "children      int64\n",
      "smoker       object\n",
      "region       object\n",
      "charges     float64\n",
      "dtype: object\n",
      "1338\n"
     ]
    }
   ],
   "source": [
    "#check for types of data in the dataframe\n",
    "print(df.dtypes)\n",
    "#and lets find out how many rows of data there is \n",
    "print(len(df))"
   ]
  },
  {
   "cell_type": "code",
   "execution_count": 5,
   "metadata": {},
   "outputs": [
    {
     "name": "stdout",
     "output_type": "stream",
     "text": [
      "1338\n"
     ]
    }
   ],
   "source": [
    "#All data is appropraite to make do data analysis on \n",
    "#Lets drop all potential nan's though\n",
    "df = df.dropna()\n",
    "#now lets see if any data was dropped off of the 1338\n",
    "print(len(df))\n"
   ]
  },
  {
   "cell_type": "markdown",
   "metadata": {},
   "source": [
    "# 2. What questions do we want to answer?"
   ]
  },
  {
   "cell_type": "markdown",
   "metadata": {},
   "source": [
    "1. does region, smoker and sex make a statistically significant difference in cost\n",
    "2. assuming that 26 is the healthiest age (physical prime of life) will it be better than all other times youger and older in cost\n"
   ]
  },
  {
   "cell_type": "markdown",
   "metadata": {},
   "source": [
    "# 3. Get descriptive stats and visualization to understand the data. "
   ]
  },
  {
   "cell_type": "code",
   "execution_count": 6,
   "metadata": {},
   "outputs": [
    {
     "name": "stdout",
     "output_type": "stream",
     "text": [
      "[0 1 3 2 5 4]\n",
      "['southwest' 'southeast' 'northwest' 'northeast']\n",
      "Count of zero children 574\n",
      "Count of one child 324\n",
      "Count of two children 240\n",
      "Count of three children 157\n",
      "Count of four children 25\n",
      "11899.625365\n",
      "This is the range for charges 62648.554110000005\n",
      "This is the max for charges 63770.42801\n",
      "     age     sex    bmi  children smoker     region      charges\n",
      "543   54  female  47.41         0    yes  southeast  63770.42801\n",
      "This is charges mean 13270.422265141257\n",
      "This is charges median 9382.033\n"
     ]
    }
   ],
   "source": [
    "#find unique data in needed columns like childern and region\n",
    "print(df.children.unique())\n",
    "print(df.region.unique())\n",
    "#age stats\n",
    "age_av = np.mean(df.age)\n",
    "age_std = np.std(df.age)\n",
    "#sex info\n",
    "male_num = len(df.loc[df.sex == 'male'])\n",
    "female_num = len(df.loc[df.sex == 'female'])\n",
    "#bmi stats\n",
    "bmi_av = np.mean(df.bmi)\n",
    "bmi_std = np.std(df.bmi)\n",
    "#children info\n",
    "zero = df.children[df.children == 0]\n",
    "zero_count = zero.count()\n",
    "print('Count of zero children ' + str(zero_count))\n",
    "one = df.children[df.children == 1]\n",
    "one_count = one.count()\n",
    "print('Count of one child ' + str(one_count))\n",
    "two = df.children[df.children == 2]\n",
    "two_count = two.count()\n",
    "print('Count of two children ' + str(two_count))\n",
    "three = df.children[df.children == 3]\n",
    "three_count = three.count()\n",
    "print('Count of three children ' + str(three_count))\n",
    "four = df.children[df.children == 4]\n",
    "four_count = four.count()\n",
    "print('Count of four children ' + str(four_count))\n",
    "#smoker num of yes vs no's\n",
    "smoke_no = df.smoker[df.smoker == 'no']\n",
    "smoke_yes = df.smoker[df.smoker == 'yes']\n",
    "#region num\n",
    "sw = df.region[df.region == 'southwest']\n",
    "sw_count = sw.count()\n",
    "se = df.region[df.region == 'southeast']\n",
    "se_count = se.count()\n",
    "nw = df.region[df.region == 'northwest']\n",
    "nw_count= nw.count()\n",
    "ne = df.region[df.region == 'northeast']\n",
    "ne_count = ne.count()\n",
    "#charges stats\n",
    "char_mean = np.mean(df.charges)\n",
    "char_median = np.median(df.charges)\n",
    "char_std = np.std(df.charges)\n",
    "char_max = df.charges.max()\n",
    "all_data_max = df[df.charges == df.charges.max()]\n",
    "char_min = df.charges.min()\n",
    "q1 = np.quantile(df.charges, .25)\n",
    "q3 = np.quantile(df.charges, .75)\n",
    "char_iqr = q3 - q1\n",
    "print(char_iqr)\n",
    "print('This is the range for charges ' + str(char_max - char_min))\n",
    "print('This is the max for charges ' + str(char_max))\n",
    "print(all_data_max)\n",
    "print('This is charges mean ' + str(char_mean))\n",
    "print('This is charges median ' + str(char_median))"
   ]
  },
  {
   "cell_type": "code",
   "execution_count": 7,
   "metadata": {},
   "outputs": [
    {
     "data": {
      "text/plain": [
       "Text(0.5, 0, 'charge amount')"
      ]
     },
     "execution_count": 7,
     "metadata": {},
     "output_type": "execute_result"
    },
    {
     "data": {
      "image/png": "[encoded data removed]",
      "text/plain": [
       "<Figure size 432x288 with 1 Axes>"
      ]
     },
     "metadata": {
      "needs_background": "light"
     },
     "output_type": "display_data"
    }
   ],
   "source": [
    "#lets use some visualization to get understand the data\n",
    "#first we will start with the charges distribution \n",
    "from matplotlib import pyplot as plt\n",
    "ax = plt.subplot()\n",
    "plt.hist(df.charges, bins= 40)\n",
    "plt.axvline(char_mean, linewidth = 2, color = 'r')\n",
    "plt.axvline(char_median, linewidth = 2, color = 'g')\n",
    "plt.axvline(q1, linewidth = 2, linestyle= 'dotted', color = 'y')\n",
    "plt.axvline(q3, linewidth = 2, linestyle= 'dotted', color = 'y')\n",
    "plt.legend(['mean', 'median', 'q1', 'q2'])\n",
    "plt.title('Distribution of charges')\n",
    "plt.ylabel('number of patients')\n",
    "plt.xlabel('charge amount')\n"
   ]
  },
  {
   "cell_type": "markdown",
   "metadata": {},
   "source": [
    "Analysis of the 'Distribution of charges' graph\n",
    "1. We see that the mean is skewed to the right compared to the median. This makes me aware of potential outlier issues in the data.\n",
    "2. The Range is large 62648.5 which could also bring attention to some outlier issues\n",
    "3. The max is 63770.4 which is a women with multiple high risk factors (smoking, above 50 , bmi high) and her charges are noticably higher than any other charge.\n",
    "4. The mean is 13270.4 and the median is 9382.0. due to all the factors previously stated I will stick with the median as a better analysis of center. \n",
    "5. 69% of our data lies between the interquartile range (iqr) which is 11899.6, and this is shown by the two dotted yellow lines in the graph above."
   ]
  },
  {
   "cell_type": "code",
   "execution_count": 29,
   "metadata": {},
   "outputs": [
    {
     "data": {
      "text/plain": [
       "[Text(-1, 0, 'southwest'),\n",
       " Text(0, 0, 'southeast'),\n",
       " Text(1, 0, 'northwest'),\n",
       " Text(2, 0, 'northeast')]"
      ]
     },
     "execution_count": 29,
     "metadata": {},
     "output_type": "execute_result"
    },
    {
     "data": {
      "image/png": "[encoded data removed]",
      "text/plain": [
       "<Figure size 432x288 with 6 Axes>"
      ]
     },
     "metadata": {
      "needs_background": "light"
     },
     "output_type": "display_data"
    }
   ],
   "source": [
    "#now lets make subplots of the rest of the data we want to compare the charges to\n",
    "\n",
    "#age\n",
    "plt.subplot(2, 3, 1)\n",
    "plt.hist(df.age, bins= 20)\n",
    "plt.axvline(age_av, linewidth = 2, color = 'r')\n",
    "plt.axvline(age_av - age_std, linewidth = 2, color = 'y', linestyle= 'dotted')\n",
    "plt.axvline(age_av + age_std, linewidth = 2, color = 'y', linestyle= 'dotted')\n",
    "plt.title('age distribution')\n",
    "plt.xlabel('age')\n",
    "plt.ylabel('num of patients')\n",
    "#sex\n",
    "import seaborn as sns\n",
    "ax = plt.subplot(2, 3, 2)\n",
    "plt.title('gender vs. charges')\n",
    "sns.barplot(data = df, x = 'sex', y= 'charges')\n",
    "plt.subplots_adjust(wspace = 1.0)\n",
    "#bmi\n",
    "ax = plt.subplot(2, 3, 3)\n",
    "plt.hist(df.bmi, bins= 20)\n",
    "plt.axvline(bmi_av, linewidth = 2, color = 'r')\n",
    "plt.axvline(bmi_av - bmi_std, linewidth = 2, linestyle = 'dotted', color = 'y')\n",
    "plt.axvline(bmi_av + bmi_std, linewidth = 2, linestyle = 'dotted', color = 'y')\n",
    "plt.title('bmi distribution')\n",
    "plt.xlabel('bmi')\n",
    "plt.ylabel('num of patients')\n",
    "#children\n",
    "ax = plt.subplot(2, 3, 4)\n",
    "sns.barplot(data = df, x = 'children', y = 'charges')\n",
    "plt.title('children vs charges')\n",
    "plt.subplots_adjust(hspace= .7)\n",
    "#smokers\n",
    "ax = plt.subplot(2, 3, 5)\n",
    "sns.barplot(data = df, x = 'smoker', y = 'charges')\n",
    "plt.title('smoker vs charges')\n",
    "plt.xlabel('smoker')\n",
    "plt.ylabel('charges')\n",
    "#region\n",
    "n = df.region.unique()\n",
    "ax = plt.subplot(2, 3, 6)\n",
    "sns.barplot(data = df, x = 'region', y = 'charges', )\n",
    "plt.title('region vs charges')\n",
    "plt.xlabel('region')\n",
    "plt.ylabel('charges')\n",
    "ax.set_xticks([-1, 0, 1, 2])\n",
    "ax.set_xticklabels(['southwest', 'southeast' ,'northwest', 'northeast'], rotation = 45)"
   ]
  },
  {
   "cell_type": "code",
   "execution_count": null,
   "metadata": {},
   "outputs": [],
   "source": []
  }
 ],
 "metadata": {
  "kernelspec": {
   "display_name": "Python 3",
   "language": "python",
   "name": "python3"
  },
  "language_info": {
   "codemirror_mode": {
    "name": "ipython",
    "version": 3
   },
   "file_extension": ".py",
   "mimetype": "text/x-python",
   "name": "python",
   "nbconvert_exporter": "python",
   "pygments_lexer": "ipython3",
   "version": "3.7.7"
  }
 },
 "nbformat": 4,
 "nbformat_minor": 4
}
